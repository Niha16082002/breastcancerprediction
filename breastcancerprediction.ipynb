{
  "nbformat": 4,
  "nbformat_minor": 0,
  "metadata": {
    "colab": {
      "provenance": []
    },
    "kernelspec": {
      "name": "python3",
      "display_name": "Python 3"
    },
    "language_info": {
      "name": "python"
    }
  },
  "cells": [
    {
      "cell_type": "code",
      "execution_count": 1,
      "metadata": {
        "colab": {
          "base_uri": "https://localhost:8080/"
        },
        "id": "Oefo6c2xo-f6",
        "outputId": "ca864a6d-b117-4240-d8e9-f94114f7573d"
      },
      "outputs": [
        {
          "output_type": "stream",
          "name": "stdout",
          "text": [
            "Random Forest accuracy:  0.9122807017543859\n",
            "\n",
            "Enter the data for prediction\n",
            "Enter the radius_mean: 17.99\n",
            "Enter the texture_mean: 10.38\n",
            "Enter the perimeter_mean: 122.8\n",
            "Enter the area_mean: 1001\n",
            "Enter the smoothness_mean: 0.1184\n",
            "\n",
            "If the output is 1, then the patient has cancer, else the patient is healthy.\n",
            "\n",
            "\n",
            "Random Forest prediction:  0\n"
          ]
        },
        {
          "output_type": "stream",
          "name": "stderr",
          "text": [
            "/usr/local/lib/python3.10/dist-packages/sklearn/base.py:439: UserWarning: X does not have valid feature names, but RandomForestClassifier was fitted with feature names\n",
            "  warnings.warn(\n"
          ]
        }
      ],
      "source": [
        "import pandas as pd\n",
        "import seaborn as sns\n",
        "import matplotlib.pyplot as plt\n",
        "import numpy as np\n",
        "from sklearn.preprocessing import StandardScaler\n",
        "from sklearn.model_selection import train_test_split\n",
        "from sklearn.metrics import accuracy_score\n",
        "from sklearn.ensemble import RandomForestClassifier\n",
        "\n",
        "\n",
        "\n",
        "\n",
        "df = pd.read_csv(\"Breast_cancer_data_.csv\")\n",
        "\n",
        "\n",
        "\n",
        "\n",
        "X = df.drop('diagnosis', axis=1)\n",
        "y = df['diagnosis']\n",
        "X_train, X_test, y_train, y_test = train_test_split(X, y, test_size=0.20)\n",
        "\n",
        "\n",
        "\n",
        "\n",
        "\n",
        "#random forest classifier\n",
        "rfc = RandomForestClassifier(n_estimators=200)\n",
        "rfc.fit(X_train, y_train)\n",
        "y_pred = rfc.predict(X_test)\n",
        "rfc_accuracy = accuracy_score(y_test, y_pred)\n",
        "print('Random Forest accuracy: ', rfc_accuracy)\n",
        "\n",
        "\n",
        "\n",
        "\n",
        "#inputting the data for prediction\n",
        "\n",
        "print('\\nEnter the data for prediction')\n",
        "mean_radius = float(input('Enter the radius_mean: '))\n",
        "mean_texture = float(input('Enter the texture_mean: '))\n",
        "mean_perimeter = float(input('Enter the perimeter_mean: '))\n",
        "mean_area = float(input('Enter the area_mean: '))\n",
        "mean_smoothness = float(input('Enter the smoothness_mean: '))\n",
        "\n",
        "\n",
        "\n",
        "\n",
        "rfc_pred = rfc.predict([[mean_radius, mean_texture, mean_perimeter, mean_area, mean_smoothness]])\n",
        "\n",
        "\n",
        "\n",
        "\n",
        "#displaying the output\n",
        "\n",
        "print('\\nIf the output is 1, then the patient has cancer, else the patient is healthy.')\n",
        " \n",
        "print('\\n')\n",
        "print('Random Forest prediction: ', rfc_pred[0])"
      ]
    }
  ]
}